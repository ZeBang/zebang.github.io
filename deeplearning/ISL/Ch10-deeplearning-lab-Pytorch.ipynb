{
 "cells": [
  {
   "cell_type": "markdown",
   "id": "4f8566cf",
   "metadata": {},
   "source": [
    "## Lab: Deep Learning"
   ]
  },
  {
   "cell_type": "markdown",
   "id": "643582ea",
   "metadata": {},
   "source": [
    "#### A single Layer Network on the Hitters Data"
   ]
  },
  {
   "cell_type": "code",
   "execution_count": 9,
   "id": "95e39fac",
   "metadata": {},
   "outputs": [],
   "source": [
    "import pandas as pd\n",
    "import numpy as np\n",
    "import random\n",
    "import math\n",
    "import torch\n",
    "from torch.utils import data"
   ]
  },
  {
   "cell_type": "markdown",
   "id": "a60add11",
   "metadata": {},
   "source": [
    "Load data"
   ]
  },
  {
   "cell_type": "code",
   "execution_count": 44,
   "id": "bb4a9cf4",
   "metadata": {},
   "outputs": [],
   "source": [
    "Gitters = pd.read_csv('Gitters.csv')\n",
    "n = Gitters.shape[0]\n",
    "random.seed(13)\n",
    "ntest = math.trunc(n / 3)\n",
    "testid = random.sample(range(n), ntest)\n",
    "trainid = [i for i in range(n) if i not in testid]\n",
    "x_train = torch.from_numpy(Gitters.iloc[trainid,:-1].to_numpy()).float()\n",
    "y_train = torch.from_numpy(Gitters.iloc[trainid,-1].to_numpy().reshape(-1, 1)).float()\n",
    "x_test = torch.from_numpy(Gitters.iloc[testid,:-1].to_numpy()).float()\n",
    "y_test = torch.from_numpy(Gitters.iloc[testid,-1].to_numpy().reshape(-1, 1)).float()"
   ]
  },
  {
   "cell_type": "code",
   "execution_count": 45,
   "id": "b7fd2c1c",
   "metadata": {},
   "outputs": [],
   "source": [
    "y_train = (y_train - y_train.mean()) / np.sqrt(y_train.var())\n",
    "y_test = (y_test - y_test.mean()) / np.sqrt(y_test.var())"
   ]
  },
  {
   "cell_type": "code",
   "execution_count": 56,
   "id": "d59bd592",
   "metadata": {},
   "outputs": [],
   "source": [
    "def load_array(data_arrays, batch_size, is_train=True):\n",
    "    dataset = data.TensorDataset(*data_arrays)\n",
    "    return data.DataLoader(dataset, batch_size, shuffle=is_train)\n",
    "\n",
    "batch_size = 32\n",
    "epochs = 20\n",
    "data_iter = load_array((x_train, y_train), batch_size)"
   ]
  },
  {
   "cell_type": "markdown",
   "id": "6dd57ac2",
   "metadata": {},
   "source": [
    "Build network"
   ]
  },
  {
   "cell_type": "code",
   "execution_count": 57,
   "id": "5764577c",
   "metadata": {},
   "outputs": [],
   "source": [
    "import torch.nn as nn\n",
    "import torch.nn.functional as F\n",
    "from torch.autograd import Variable\n",
    "\n",
    "class Net(nn.Module):\n",
    "    def __init__(self, input_size):\n",
    "        super().__init__()\n",
    "        self.fc1 = nn.Linear(input_size, 50)\n",
    "        self.fc2 = nn.Linear(50, 1)\n",
    "        self.dropout = nn.Dropout(0.4)\n",
    "\n",
    "    def forward(self, x):\n",
    "        x = F.relu(self.fc1(x))\n",
    "        x = self.dropout(x)\n",
    "        x = self.fc2(x)\n",
    "        return x"
   ]
  },
  {
   "cell_type": "markdown",
   "id": "8dfc9015",
   "metadata": {},
   "source": [
    "Set parameters"
   ]
  },
  {
   "cell_type": "code",
   "execution_count": 58,
   "id": "30685fd6",
   "metadata": {},
   "outputs": [],
   "source": [
    "net = Net(20)\n",
    "loss_function = nn.MSELoss()\n",
    "optimizer = torch.optim.SGD(net.parameters(), lr=0.01)"
   ]
  },
  {
   "cell_type": "markdown",
   "id": "c3866b44",
   "metadata": {},
   "source": [
    "Training"
   ]
  },
  {
   "cell_type": "code",
   "execution_count": 59,
   "id": "8f754241",
   "metadata": {
    "scrolled": true
   },
   "outputs": [
    {
     "name": "stdout",
     "output_type": "stream",
     "text": [
      "epoch 1, loss 7.140122\n",
      "epoch 2, loss 5.916814\n",
      "epoch 3, loss 4.766182\n",
      "epoch 4, loss 4.590686\n",
      "epoch 5, loss 4.455988\n",
      "epoch 6, loss 4.036636\n",
      "epoch 7, loss 3.968684\n",
      "epoch 8, loss 4.011201\n",
      "epoch 9, loss 4.137891\n",
      "epoch 10, loss 3.561571\n",
      "epoch 11, loss 4.553437\n",
      "epoch 12, loss 3.916849\n",
      "epoch 13, loss 3.826640\n",
      "epoch 14, loss 3.985428\n",
      "epoch 15, loss 3.309112\n",
      "epoch 16, loss 3.431372\n",
      "epoch 17, loss 3.041155\n",
      "epoch 18, loss 3.340093\n",
      "epoch 19, loss 3.124849\n",
      "epoch 20, loss 3.648586\n"
     ]
    }
   ],
   "source": [
    "losses = []\n",
    "for epoch in range(epochs):\n",
    "    loss_epoch = 0\n",
    "    for x,y in data_iter:\n",
    "        optimizer.zero_grad()\n",
    "        loss = loss_function(net(x), y)\n",
    "        loss.backward()\n",
    "        optimizer.step()\n",
    "        loss_epoch += loss.item()\n",
    "    print(f'epoch {epoch + 1}, loss {loss_epoch:f}')"
   ]
  },
  {
   "cell_type": "markdown",
   "id": "75d1326d",
   "metadata": {},
   "source": [
    "Testing"
   ]
  },
  {
   "cell_type": "code",
   "execution_count": 69,
   "id": "18f64a23",
   "metadata": {},
   "outputs": [
    {
     "data": {
      "text/plain": [
       "0.5584160685539246"
      ]
     },
     "execution_count": 69,
     "metadata": {},
     "output_type": "execute_result"
    }
   ],
   "source": [
    "pred = net(x_test)\n",
    "loss_function(pred, y_test).item()"
   ]
  }
 ],
 "metadata": {
  "kernelspec": {
   "display_name": "Python 3 (ipykernel)",
   "language": "python",
   "name": "python3"
  },
  "language_info": {
   "codemirror_mode": {
    "name": "ipython",
    "version": 3
   },
   "file_extension": ".py",
   "mimetype": "text/x-python",
   "name": "python",
   "nbconvert_exporter": "python",
   "pygments_lexer": "ipython3",
   "version": "3.7.4"
  }
 },
 "nbformat": 4,
 "nbformat_minor": 5
}
